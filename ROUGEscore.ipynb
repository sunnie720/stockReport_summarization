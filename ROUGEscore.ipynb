{
 "cells": [
  {
   "attachments": {},
   "cell_type": "markdown",
   "metadata": {},
   "source": [
    "# ROUGE Score - output_ft"
   ]
  },
  {
   "cell_type": "code",
   "execution_count": 1,
   "metadata": {},
   "outputs": [
    {
     "data": {
      "text/html": [
       "<div>\n",
       "<style scoped>\n",
       "    .dataframe tbody tr th:only-of-type {\n",
       "        vertical-align: middle;\n",
       "    }\n",
       "\n",
       "    .dataframe tbody tr th {\n",
       "        vertical-align: top;\n",
       "    }\n",
       "\n",
       "    .dataframe thead th {\n",
       "        text-align: right;\n",
       "    }\n",
       "</style>\n",
       "<table border=\"1\" class=\"dataframe\">\n",
       "  <thead>\n",
       "    <tr style=\"text-align: right;\">\n",
       "      <th></th>\n",
       "      <th>model_summary</th>\n",
       "    </tr>\n",
       "  </thead>\n",
       "  <tbody>\n",
       "    <tr>\n",
       "      <th>0</th>\n",
       "      <td>호텔스닷컴에 따르면 그랜드 워커힐 서울과 협업해 꾸민 '호텔스닷컴 벨퍼그 랜드 룸'...</td>\n",
       "    </tr>\n",
       "    <tr>\n",
       "      <th>1</th>\n",
       "      <td>지난 12일 유기농 여성용품 브랜드 라엘은 국내 공식 쇼핑몰을 열고 대표 제품인 라...</td>\n",
       "    </tr>\n",
       "    <tr>\n",
       "      <th>2</th>\n",
       "      <td>대한항공은 3분기 영업이익 2,503억원(+4.0%)를 기록했을 것으로 전망합니다....</td>\n",
       "    </tr>\n",
       "    <tr>\n",
       "      <th>3</th>\n",
       "      <td>이구열 우양 대표는 6일 서울 여의도에서 열린 기업공개(IPO) 기자간담회에서 중장...</td>\n",
       "    </tr>\n",
       "    <tr>\n",
       "      <th>4</th>\n",
       "      <td>동사는 자동차용 스틸 파이프와 변속기용 플레이트 부문 일인자로 자동차용 스틸 파이프...</td>\n",
       "    </tr>\n",
       "  </tbody>\n",
       "</table>\n",
       "</div>"
      ],
      "text/plain": [
       "                                       model_summary\n",
       "0  호텔스닷컴에 따르면 그랜드 워커힐 서울과 협업해 꾸민 '호텔스닷컴 벨퍼그 랜드 룸'...\n",
       "1  지난 12일 유기농 여성용품 브랜드 라엘은 국내 공식 쇼핑몰을 열고 대표 제품인 라...\n",
       "2  대한항공은 3분기 영업이익 2,503억원(+4.0%)를 기록했을 것으로 전망합니다....\n",
       "3  이구열 우양 대표는 6일 서울 여의도에서 열린 기업공개(IPO) 기자간담회에서 중장...\n",
       "4  동사는 자동차용 스틸 파이프와 변속기용 플레이트 부문 일인자로 자동차용 스틸 파이프..."
      ]
     },
     "execution_count": 1,
     "metadata": {},
     "output_type": "execute_result"
    }
   ],
   "source": [
    "import pandas as pd\n",
    "ft = pd.read_csv('/home/sjkim/textmining/kobart/KoBART-summarization/data/output_ft.csv')\n",
    "ft.head()"
   ]
  },
  {
   "cell_type": "code",
   "execution_count": 7,
   "metadata": {},
   "outputs": [],
   "source": [
    "docs = pd.read_csv('/home/sjkim/textmining/kobart/KoBART-summarization/data/final_test_clean.tsv', sep='\\t')\n",
    "docs.drop(['news', 'length'], axis=1, inplace=True)"
   ]
  },
  {
   "cell_type": "code",
   "execution_count": 45,
   "metadata": {},
   "outputs": [
    {
     "data": {
      "text/html": [
       "<div>\n",
       "<style scoped>\n",
       "    .dataframe tbody tr th:only-of-type {\n",
       "        vertical-align: middle;\n",
       "    }\n",
       "\n",
       "    .dataframe tbody tr th {\n",
       "        vertical-align: top;\n",
       "    }\n",
       "\n",
       "    .dataframe thead th {\n",
       "        text-align: right;\n",
       "    }\n",
       "</style>\n",
       "<table border=\"1\" class=\"dataframe\">\n",
       "  <thead>\n",
       "    <tr style=\"text-align: right;\">\n",
       "      <th></th>\n",
       "      <th>summary</th>\n",
       "    </tr>\n",
       "  </thead>\n",
       "  <tbody>\n",
       "    <tr>\n",
       "      <th>2135</th>\n",
       "      <td>대마도가 원래 우리 땅이라는 많은 기록이 있고 해방 후 이 대통령은 수시로 대마도를...</td>\n",
       "    </tr>\n",
       "    <tr>\n",
       "      <th>2136</th>\n",
       "      <td>테스가 1분기에 이어 2분기에도 양호한 실적을 발표했습니다. 하지만, 메모리 수요가...</td>\n",
       "    </tr>\n",
       "    <tr>\n",
       "      <th>2138</th>\n",
       "      <td>기아차 광주공장은 4일 광주 교육연수원에서 수능시험을 마치고 진로선택을 앞두고 있는...</td>\n",
       "    </tr>\n",
       "  </tbody>\n",
       "</table>\n",
       "</div>"
      ],
      "text/plain": [
       "                                                summary\n",
       "2135  대마도가 원래 우리 땅이라는 많은 기록이 있고 해방 후 이 대통령은 수시로 대마도를...\n",
       "2136  테스가 1분기에 이어 2분기에도 양호한 실적을 발표했습니다. 하지만, 메모리 수요가...\n",
       "2138  기아차 광주공장은 4일 광주 교육연수원에서 수능시험을 마치고 진로선택을 앞두고 있는..."
      ]
     },
     "execution_count": 45,
     "metadata": {},
     "output_type": "execute_result"
    }
   ],
   "source": [
    "# 2137, 2805 지우기 - summary에서. 왜 지우냐면 summary에는 있는데 model summary에는 없어서 길이가 안맞음!! \n",
    "# 2개씩 밀려버려서 ROUGE 스코어 계산 불가능 그래서 그냥 지워버림\n",
    "docs.drop(docs.index[2137], inplace=True)"
   ]
  },
  {
   "cell_type": "code",
   "execution_count": 78,
   "metadata": {},
   "outputs": [],
   "source": [
    "docs.drop(docs.index[2805], inplace=True)"
   ]
  },
  {
   "cell_type": "code",
   "execution_count": 79,
   "metadata": {},
   "outputs": [],
   "source": [
    "docs.reset_index(drop=True, inplace=True)"
   ]
  },
  {
   "cell_type": "code",
   "execution_count": 80,
   "metadata": {},
   "outputs": [
    {
     "data": {
      "text/html": [
       "<div>\n",
       "<style scoped>\n",
       "    .dataframe tbody tr th:only-of-type {\n",
       "        vertical-align: middle;\n",
       "    }\n",
       "\n",
       "    .dataframe tbody tr th {\n",
       "        vertical-align: top;\n",
       "    }\n",
       "\n",
       "    .dataframe thead th {\n",
       "        text-align: right;\n",
       "    }\n",
       "</style>\n",
       "<table border=\"1\" class=\"dataframe\">\n",
       "  <thead>\n",
       "    <tr style=\"text-align: right;\">\n",
       "      <th></th>\n",
       "      <th>summary</th>\n",
       "    </tr>\n",
       "  </thead>\n",
       "  <tbody>\n",
       "    <tr>\n",
       "      <th>0</th>\n",
       "      <td>호텔스닷컴은 지난 5월 자녀가 있는 가정을 대상으로 설문조사를 진행한 결과, 국내서...</td>\n",
       "    </tr>\n",
       "    <tr>\n",
       "      <th>1</th>\n",
       "      <td>유기농 여성용품 브랜드 라엘은 다양한 고객 이벤트와 함께 생리대와 여성청결제 마스크...</td>\n",
       "    </tr>\n",
       "    <tr>\n",
       "      <th>2</th>\n",
       "      <td>메르스 효과로 인한 중국 노선 부진이 성수기 내내 이어졌지만 3분기 대한항공은 2,...</td>\n",
       "    </tr>\n",
       "    <tr>\n",
       "      <th>3</th>\n",
       "      <td>음료베이스 및 퓨레, HMR 제품을 제조하는 식품 제조 전문기업인 우양은 이번 코스...</td>\n",
       "    </tr>\n",
       "    <tr>\n",
       "      <th>4</th>\n",
       "      <td>동사는 자동차용 스틸 파이프와 변속기용 플레이트를 생산하는 업체로 동 분야에서는 국...</td>\n",
       "    </tr>\n",
       "    <tr>\n",
       "      <th>...</th>\n",
       "      <td>...</td>\n",
       "    </tr>\n",
       "    <tr>\n",
       "      <th>3886</th>\n",
       "      <td>14일 금융감독원은  SKT 박정호 사장의 총 보수가 38억8100만원이라고 밝혔는...</td>\n",
       "    </tr>\n",
       "    <tr>\n",
       "      <th>3887</th>\n",
       "      <td>29일 KB 주택 가격 동향에 따르면 이달 전국 아파트 평균 전세가율은 70.6%로...</td>\n",
       "    </tr>\n",
       "    <tr>\n",
       "      <th>3888</th>\n",
       "      <td>HDC현대산업개발은 금년도 연결기준 2분기 영업이익이 1958억원으로 작년 대비 9...</td>\n",
       "    </tr>\n",
       "    <tr>\n",
       "      <th>3889</th>\n",
       "      <td>손자회사인 LS전선아시아가 상장 예비심사를 통과했고, 조만간 KOSPI에 상장될 것...</td>\n",
       "    </tr>\n",
       "    <tr>\n",
       "      <th>3890</th>\n",
       "      <td>소설 동의보감이 출간되자 담박에 베스트셀러가 되었고 나라에서는 1991년을 허준의 ...</td>\n",
       "    </tr>\n",
       "  </tbody>\n",
       "</table>\n",
       "<p>3891 rows × 1 columns</p>\n",
       "</div>"
      ],
      "text/plain": [
       "                                                summary\n",
       "0     호텔스닷컴은 지난 5월 자녀가 있는 가정을 대상으로 설문조사를 진행한 결과, 국내서...\n",
       "1     유기농 여성용품 브랜드 라엘은 다양한 고객 이벤트와 함께 생리대와 여성청결제 마스크...\n",
       "2     메르스 효과로 인한 중국 노선 부진이 성수기 내내 이어졌지만 3분기 대한항공은 2,...\n",
       "3     음료베이스 및 퓨레, HMR 제품을 제조하는 식품 제조 전문기업인 우양은 이번 코스...\n",
       "4     동사는 자동차용 스틸 파이프와 변속기용 플레이트를 생산하는 업체로 동 분야에서는 국...\n",
       "...                                                 ...\n",
       "3886  14일 금융감독원은  SKT 박정호 사장의 총 보수가 38억8100만원이라고 밝혔는...\n",
       "3887  29일 KB 주택 가격 동향에 따르면 이달 전국 아파트 평균 전세가율은 70.6%로...\n",
       "3888  HDC현대산업개발은 금년도 연결기준 2분기 영업이익이 1958억원으로 작년 대비 9...\n",
       "3889  손자회사인 LS전선아시아가 상장 예비심사를 통과했고, 조만간 KOSPI에 상장될 것...\n",
       "3890  소설 동의보감이 출간되자 담박에 베스트셀러가 되었고 나라에서는 1991년을 허준의 ...\n",
       "\n",
       "[3891 rows x 1 columns]"
      ]
     },
     "execution_count": 80,
     "metadata": {},
     "output_type": "execute_result"
    }
   ],
   "source": [
    "docs"
   ]
  },
  {
   "cell_type": "code",
   "execution_count": 81,
   "metadata": {},
   "outputs": [
    {
     "data": {
      "text/html": [
       "<div>\n",
       "<style scoped>\n",
       "    .dataframe tbody tr th:only-of-type {\n",
       "        vertical-align: middle;\n",
       "    }\n",
       "\n",
       "    .dataframe tbody tr th {\n",
       "        vertical-align: top;\n",
       "    }\n",
       "\n",
       "    .dataframe thead th {\n",
       "        text-align: right;\n",
       "    }\n",
       "</style>\n",
       "<table border=\"1\" class=\"dataframe\">\n",
       "  <thead>\n",
       "    <tr style=\"text-align: right;\">\n",
       "      <th></th>\n",
       "      <th>model_summary</th>\n",
       "      <th>summary</th>\n",
       "    </tr>\n",
       "  </thead>\n",
       "  <tbody>\n",
       "    <tr>\n",
       "      <th>0</th>\n",
       "      <td>호텔스닷컴에 따르면 그랜드 워커힐 서울과 협업해 꾸민 '호텔스닷컴 벨퍼그 랜드 룸'...</td>\n",
       "      <td>호텔스닷컴은 지난 5월 자녀가 있는 가정을 대상으로 설문조사를 진행한 결과, 국내서...</td>\n",
       "    </tr>\n",
       "    <tr>\n",
       "      <th>1</th>\n",
       "      <td>지난 12일 유기농 여성용품 브랜드 라엘은 국내 공식 쇼핑몰을 열고 대표 제품인 라...</td>\n",
       "      <td>유기농 여성용품 브랜드 라엘은 다양한 고객 이벤트와 함께 생리대와 여성청결제 마스크...</td>\n",
       "    </tr>\n",
       "    <tr>\n",
       "      <th>2</th>\n",
       "      <td>대한항공은 3분기 영업이익 2,503억원(+4.0%)를 기록했을 것으로 전망합니다....</td>\n",
       "      <td>메르스 효과로 인한 중국 노선 부진이 성수기 내내 이어졌지만 3분기 대한항공은 2,...</td>\n",
       "    </tr>\n",
       "    <tr>\n",
       "      <th>3</th>\n",
       "      <td>이구열 우양 대표는 6일 서울 여의도에서 열린 기업공개(IPO) 기자간담회에서 중장...</td>\n",
       "      <td>음료베이스 및 퓨레, HMR 제품을 제조하는 식품 제조 전문기업인 우양은 이번 코스...</td>\n",
       "    </tr>\n",
       "    <tr>\n",
       "      <th>4</th>\n",
       "      <td>동사는 자동차용 스틸 파이프와 변속기용 플레이트 부문 일인자로 자동차용 스틸 파이프...</td>\n",
       "      <td>동사는 자동차용 스틸 파이프와 변속기용 플레이트를 생산하는 업체로 동 분야에서는 국...</td>\n",
       "    </tr>\n",
       "    <tr>\n",
       "      <th>...</th>\n",
       "      <td>...</td>\n",
       "      <td>...</td>\n",
       "    </tr>\n",
       "    <tr>\n",
       "      <th>3886</th>\n",
       "      <td>14일 금융감독원 전자공시시스템에 따르면 박정호 SK텔레콤 사장이 상반기 급여 6억...</td>\n",
       "      <td>14일 금융감독원은  SKT 박정호 사장의 총 보수가 38억8100만원이라고 밝혔는...</td>\n",
       "    </tr>\n",
       "    <tr>\n",
       "      <th>3887</th>\n",
       "      <td>29일 KB주택가격동향 자료에 따르면 이달 기준 전국 아파트의 평균 전세가율은 작년...</td>\n",
       "      <td>29일 KB 주택 가격 동향에 따르면 이달 전국 아파트 평균 전세가율은 70.6%로...</td>\n",
       "    </tr>\n",
       "    <tr>\n",
       "      <th>3888</th>\n",
       "      <td>GS건설과 HDC현대산업개발이 올 2분기 실적에선 희비가 엇갈렸지만 수익성이나 재무...</td>\n",
       "      <td>HDC현대산업개발은 금년도 연결기준 2분기 영업이익이 1958억원으로 작년 대비 9...</td>\n",
       "    </tr>\n",
       "    <tr>\n",
       "      <th>3889</th>\n",
       "      <td>LS전선아시아 상장을 통해 LS전선 및 LS의 재무구조가 개선되고, 전선 사업부문의...</td>\n",
       "      <td>손자회사인 LS전선아시아가 상장 예비심사를 통과했고, 조만간 KOSPI에 상장될 것...</td>\n",
       "    </tr>\n",
       "    <tr>\n",
       "      <th>3890</th>\n",
       "      <td>토정 이지함의 일대기를 다룬 소설 토정비결이 3권 완간하자 350만 부가 팔려 밀리...</td>\n",
       "      <td>소설 동의보감이 출간되자 담박에 베스트셀러가 되었고 나라에서는 1991년을 허준의 ...</td>\n",
       "    </tr>\n",
       "  </tbody>\n",
       "</table>\n",
       "<p>3891 rows × 2 columns</p>\n",
       "</div>"
      ],
      "text/plain": [
       "                                          model_summary  \\\n",
       "0     호텔스닷컴에 따르면 그랜드 워커힐 서울과 협업해 꾸민 '호텔스닷컴 벨퍼그 랜드 룸'...   \n",
       "1     지난 12일 유기농 여성용품 브랜드 라엘은 국내 공식 쇼핑몰을 열고 대표 제품인 라...   \n",
       "2     대한항공은 3분기 영업이익 2,503억원(+4.0%)를 기록했을 것으로 전망합니다....   \n",
       "3     이구열 우양 대표는 6일 서울 여의도에서 열린 기업공개(IPO) 기자간담회에서 중장...   \n",
       "4     동사는 자동차용 스틸 파이프와 변속기용 플레이트 부문 일인자로 자동차용 스틸 파이프...   \n",
       "...                                                 ...   \n",
       "3886  14일 금융감독원 전자공시시스템에 따르면 박정호 SK텔레콤 사장이 상반기 급여 6억...   \n",
       "3887  29일 KB주택가격동향 자료에 따르면 이달 기준 전국 아파트의 평균 전세가율은 작년...   \n",
       "3888  GS건설과 HDC현대산업개발이 올 2분기 실적에선 희비가 엇갈렸지만 수익성이나 재무...   \n",
       "3889  LS전선아시아 상장을 통해 LS전선 및 LS의 재무구조가 개선되고, 전선 사업부문의...   \n",
       "3890  토정 이지함의 일대기를 다룬 소설 토정비결이 3권 완간하자 350만 부가 팔려 밀리...   \n",
       "\n",
       "                                                summary  \n",
       "0     호텔스닷컴은 지난 5월 자녀가 있는 가정을 대상으로 설문조사를 진행한 결과, 국내서...  \n",
       "1     유기농 여성용품 브랜드 라엘은 다양한 고객 이벤트와 함께 생리대와 여성청결제 마스크...  \n",
       "2     메르스 효과로 인한 중국 노선 부진이 성수기 내내 이어졌지만 3분기 대한항공은 2,...  \n",
       "3     음료베이스 및 퓨레, HMR 제품을 제조하는 식품 제조 전문기업인 우양은 이번 코스...  \n",
       "4     동사는 자동차용 스틸 파이프와 변속기용 플레이트를 생산하는 업체로 동 분야에서는 국...  \n",
       "...                                                 ...  \n",
       "3886  14일 금융감독원은  SKT 박정호 사장의 총 보수가 38억8100만원이라고 밝혔는...  \n",
       "3887  29일 KB 주택 가격 동향에 따르면 이달 전국 아파트 평균 전세가율은 70.6%로...  \n",
       "3888  HDC현대산업개발은 금년도 연결기준 2분기 영업이익이 1958억원으로 작년 대비 9...  \n",
       "3889  손자회사인 LS전선아시아가 상장 예비심사를 통과했고, 조만간 KOSPI에 상장될 것...  \n",
       "3890  소설 동의보감이 출간되자 담박에 베스트셀러가 되었고 나라에서는 1991년을 허준의 ...  \n",
       "\n",
       "[3891 rows x 2 columns]"
      ]
     },
     "execution_count": 81,
     "metadata": {},
     "output_type": "execute_result"
    }
   ],
   "source": [
    "full = pd.concat([ft, docs], axis=1)\n",
    "full"
   ]
  },
  {
   "attachments": {},
   "cell_type": "markdown",
   "metadata": {},
   "source": [
    "#### rouge score 구하기"
   ]
  },
  {
   "cell_type": "code",
   "execution_count": 89,
   "metadata": {},
   "outputs": [
    {
     "name": "stdout",
     "output_type": "stream",
     "text": [
      "Collecting rouge\n",
      "  Downloading rouge-1.0.1-py3-none-any.whl (13 kB)\n",
      "Requirement already satisfied: six in /home/sjkim/.conda/envs/seongju/lib/python3.7/site-packages (from rouge) (1.16.0)\n",
      "Installing collected packages: rouge\n",
      "Successfully installed rouge-1.0.1\n"
     ]
    }
   ],
   "source": [
    "!pip install rouge"
   ]
  },
  {
   "cell_type": "code",
   "execution_count": 83,
   "metadata": {},
   "outputs": [],
   "source": [
    "# 리스트로 만들기\n",
    "label = list(full['summary'])\n",
    "pred = list(full['model_summary'])"
   ]
  },
  {
   "cell_type": "code",
   "execution_count": 90,
   "metadata": {},
   "outputs": [
    {
     "data": {
      "text/plain": [
       "{'rouge-1': {'r': 0.29618319773497037,\n",
       "  'p': 0.2839283183010583,\n",
       "  'f': 0.28029738803204435},\n",
       " 'rouge-2': {'r': 0.17623604015608835,\n",
       "  'p': 0.1721428280297619,\n",
       "  'f': 0.16797250051589652},\n",
       " 'rouge-l': {'r': 0.27417553120979704,\n",
       "  'p': 0.2633689595893687,\n",
       "  'f': 0.25975993197084046}}"
      ]
     },
     "execution_count": 90,
     "metadata": {},
     "output_type": "execute_result"
    }
   ],
   "source": [
    "from rouge import Rouge\n",
    "\n",
    "rouge = Rouge()\n",
    "rouge.get_scores(pred, label, avg=True)"
   ]
  },
  {
   "cell_type": "code",
   "execution_count": 93,
   "metadata": {},
   "outputs": [
    {
     "name": "stdout",
     "output_type": "stream",
     "text": [
      "ROUGE score :  0.3596199531902204\n",
      "Precision score :  0.35785243777320724\n",
      "Recall score :  0.4457495214760161\n"
     ]
    }
   ],
   "source": [
    "from rouge_score import rouge_scorer\n",
    "import numpy as np\n",
    "\n",
    "scorer = rouge_scorer.RougeScorer(['rouge1'], use_stemmer=True)\n",
    "\n",
    "total_score = []\n",
    "total_precision = []\n",
    "total_recall = []\n",
    "\n",
    "for l, p in zip(label,pred):\n",
    "    scores = scorer.score(l,p)\n",
    "    total_score.append(scores['rouge1'].fmeasure)\n",
    "    total_precision.append(scores['rouge1'].precision)\n",
    "    total_recall.append(scores['rouge1'].recall)\n",
    "\n",
    "print('ROUGE score : ',np.mean(total_score))\n",
    "print('Precision score : ',np.mean(total_precision))\n",
    "print('Recall score : ',np.mean(total_recall))"
   ]
  },
  {
   "attachments": {},
   "cell_type": "markdown",
   "metadata": {},
   "source": [
    "# ROUGE Score - output_pt"
   ]
  },
  {
   "cell_type": "code",
   "execution_count": 98,
   "metadata": {},
   "outputs": [
    {
     "data": {
      "text/html": [
       "<div>\n",
       "<style scoped>\n",
       "    .dataframe tbody tr th:only-of-type {\n",
       "        vertical-align: middle;\n",
       "    }\n",
       "\n",
       "    .dataframe tbody tr th {\n",
       "        vertical-align: top;\n",
       "    }\n",
       "\n",
       "    .dataframe thead th {\n",
       "        text-align: right;\n",
       "    }\n",
       "</style>\n",
       "<table border=\"1\" class=\"dataframe\">\n",
       "  <thead>\n",
       "    <tr style=\"text-align: right;\">\n",
       "      <th></th>\n",
       "      <th>model_summary</th>\n",
       "    </tr>\n",
       "  </thead>\n",
       "  <tbody>\n",
       "    <tr>\n",
       "      <th>0</th>\n",
       "      <td>호텔스닷컴이 그랜드 워커힐 서울과 협업해 꾸민 '호텔스닷컴 벨퍼그 랜드 룸'은 놀이...</td>\n",
       "    </tr>\n",
       "    <tr>\n",
       "      <th>1</th>\n",
       "      <td>유기농 여성용품 브랜드 라엘은 국내 공식 쇼핑몰을 열었다고 12일 밝혔으며 이번 개...</td>\n",
       "    </tr>\n",
       "    <tr>\n",
       "      <th>2</th>\n",
       "      <td>지난 3분기 대한항공은 IFRS 연결 기준 매출액 2조9,686억원(YoY 기준 -...</td>\n",
       "    </tr>\n",
       "    <tr>\n",
       "      <th>3</th>\n",
       "      <td>이우열 우양 대표는 6일 서울 여의도에서 열린 기업공개(IPO) 기자간담회에서 B2...</td>\n",
       "    </tr>\n",
       "    <tr>\n",
       "      <th>4</th>\n",
       "      <td>자동차용 스틸 파이프와 변속기용 플레이트 부문 일인자 동사는 1977년 설립되었으며...</td>\n",
       "    </tr>\n",
       "  </tbody>\n",
       "</table>\n",
       "</div>"
      ],
      "text/plain": [
       "                                       model_summary\n",
       "0  호텔스닷컴이 그랜드 워커힐 서울과 협업해 꾸민 '호텔스닷컴 벨퍼그 랜드 룸'은 놀이...\n",
       "1  유기농 여성용품 브랜드 라엘은 국내 공식 쇼핑몰을 열었다고 12일 밝혔으며 이번 개...\n",
       "2  지난 3분기 대한항공은 IFRS 연결 기준 매출액 2조9,686억원(YoY 기준 -...\n",
       "3  이우열 우양 대표는 6일 서울 여의도에서 열린 기업공개(IPO) 기자간담회에서 B2...\n",
       "4  자동차용 스틸 파이프와 변속기용 플레이트 부문 일인자 동사는 1977년 설립되었으며..."
      ]
     },
     "execution_count": 98,
     "metadata": {},
     "output_type": "execute_result"
    }
   ],
   "source": [
    "import pandas as pd\n",
    "ft = pd.read_csv('/home/sjkim/textmining/kobart/KoBART-summarization/data/output_pt.csv')\n",
    "ft.head()"
   ]
  },
  {
   "cell_type": "code",
   "execution_count": 99,
   "metadata": {},
   "outputs": [],
   "source": [
    "docs = pd.read_csv('/home/sjkim/textmining/kobart/KoBART-summarization/data/final_test_clean.tsv', sep='\\t')\n",
    "docs.drop(['news', 'length'], axis=1, inplace=True)"
   ]
  },
  {
   "cell_type": "code",
   "execution_count": 100,
   "metadata": {},
   "outputs": [
    {
     "data": {
      "text/html": [
       "<div>\n",
       "<style scoped>\n",
       "    .dataframe tbody tr th:only-of-type {\n",
       "        vertical-align: middle;\n",
       "    }\n",
       "\n",
       "    .dataframe tbody tr th {\n",
       "        vertical-align: top;\n",
       "    }\n",
       "\n",
       "    .dataframe thead th {\n",
       "        text-align: right;\n",
       "    }\n",
       "</style>\n",
       "<table border=\"1\" class=\"dataframe\">\n",
       "  <thead>\n",
       "    <tr style=\"text-align: right;\">\n",
       "      <th></th>\n",
       "      <th>summary</th>\n",
       "    </tr>\n",
       "  </thead>\n",
       "  <tbody>\n",
       "    <tr>\n",
       "      <th>0</th>\n",
       "      <td>호텔스닷컴은 지난 5월 자녀가 있는 가정을 대상으로 설문조사를 진행한 결과, 국내서...</td>\n",
       "    </tr>\n",
       "    <tr>\n",
       "      <th>1</th>\n",
       "      <td>유기농 여성용품 브랜드 라엘은 다양한 고객 이벤트와 함께 생리대와 여성청결제 마스크...</td>\n",
       "    </tr>\n",
       "    <tr>\n",
       "      <th>2</th>\n",
       "      <td>메르스 효과로 인한 중국 노선 부진이 성수기 내내 이어졌지만 3분기 대한항공은 2,...</td>\n",
       "    </tr>\n",
       "    <tr>\n",
       "      <th>3</th>\n",
       "      <td>음료베이스 및 퓨레, HMR 제품을 제조하는 식품 제조 전문기업인 우양은 이번 코스...</td>\n",
       "    </tr>\n",
       "    <tr>\n",
       "      <th>4</th>\n",
       "      <td>동사는 자동차용 스틸 파이프와 변속기용 플레이트를 생산하는 업체로 동 분야에서는 국...</td>\n",
       "    </tr>\n",
       "    <tr>\n",
       "      <th>...</th>\n",
       "      <td>...</td>\n",
       "    </tr>\n",
       "    <tr>\n",
       "      <th>3888</th>\n",
       "      <td>14일 금융감독원은  SKT 박정호 사장의 총 보수가 38억8100만원이라고 밝혔는...</td>\n",
       "    </tr>\n",
       "    <tr>\n",
       "      <th>3889</th>\n",
       "      <td>29일 KB 주택 가격 동향에 따르면 이달 전국 아파트 평균 전세가율은 70.6%로...</td>\n",
       "    </tr>\n",
       "    <tr>\n",
       "      <th>3890</th>\n",
       "      <td>HDC현대산업개발은 금년도 연결기준 2분기 영업이익이 1958억원으로 작년 대비 9...</td>\n",
       "    </tr>\n",
       "    <tr>\n",
       "      <th>3891</th>\n",
       "      <td>손자회사인 LS전선아시아가 상장 예비심사를 통과했고, 조만간 KOSPI에 상장될 것...</td>\n",
       "    </tr>\n",
       "    <tr>\n",
       "      <th>3892</th>\n",
       "      <td>소설 동의보감이 출간되자 담박에 베스트셀러가 되었고 나라에서는 1991년을 허준의 ...</td>\n",
       "    </tr>\n",
       "  </tbody>\n",
       "</table>\n",
       "<p>3893 rows × 1 columns</p>\n",
       "</div>"
      ],
      "text/plain": [
       "                                                summary\n",
       "0     호텔스닷컴은 지난 5월 자녀가 있는 가정을 대상으로 설문조사를 진행한 결과, 국내서...\n",
       "1     유기농 여성용품 브랜드 라엘은 다양한 고객 이벤트와 함께 생리대와 여성청결제 마스크...\n",
       "2     메르스 효과로 인한 중국 노선 부진이 성수기 내내 이어졌지만 3분기 대한항공은 2,...\n",
       "3     음료베이스 및 퓨레, HMR 제품을 제조하는 식품 제조 전문기업인 우양은 이번 코스...\n",
       "4     동사는 자동차용 스틸 파이프와 변속기용 플레이트를 생산하는 업체로 동 분야에서는 국...\n",
       "...                                                 ...\n",
       "3888  14일 금융감독원은  SKT 박정호 사장의 총 보수가 38억8100만원이라고 밝혔는...\n",
       "3889  29일 KB 주택 가격 동향에 따르면 이달 전국 아파트 평균 전세가율은 70.6%로...\n",
       "3890  HDC현대산업개발은 금년도 연결기준 2분기 영업이익이 1958억원으로 작년 대비 9...\n",
       "3891  손자회사인 LS전선아시아가 상장 예비심사를 통과했고, 조만간 KOSPI에 상장될 것...\n",
       "3892  소설 동의보감이 출간되자 담박에 베스트셀러가 되었고 나라에서는 1991년을 허준의 ...\n",
       "\n",
       "[3893 rows x 1 columns]"
      ]
     },
     "execution_count": 100,
     "metadata": {},
     "output_type": "execute_result"
    }
   ],
   "source": [
    "docs"
   ]
  },
  {
   "cell_type": "code",
   "execution_count": null,
   "metadata": {},
   "outputs": [],
   "source": [
    "# 2137, 2805 지우기 - summary에서. 왜 지우냐면 summary에는 있는데 model summary에는 없어서 길이가 안맞음!! \n",
    "# 2개씩 밀려버려서 ROUGE 스코어 계산 불가능 그래서 그냥 지워버림\n",
    "docs.drop(docs.index[[2137, 2805]], inplace=True)"
   ]
  },
  {
   "cell_type": "code",
   "execution_count": 104,
   "metadata": {},
   "outputs": [
    {
     "data": {
      "text/html": [
       "<div>\n",
       "<style scoped>\n",
       "    .dataframe tbody tr th:only-of-type {\n",
       "        vertical-align: middle;\n",
       "    }\n",
       "\n",
       "    .dataframe tbody tr th {\n",
       "        vertical-align: top;\n",
       "    }\n",
       "\n",
       "    .dataframe thead th {\n",
       "        text-align: right;\n",
       "    }\n",
       "</style>\n",
       "<table border=\"1\" class=\"dataframe\">\n",
       "  <thead>\n",
       "    <tr style=\"text-align: right;\">\n",
       "      <th></th>\n",
       "      <th>summary</th>\n",
       "    </tr>\n",
       "  </thead>\n",
       "  <tbody>\n",
       "    <tr>\n",
       "      <th>0</th>\n",
       "      <td>호텔스닷컴은 지난 5월 자녀가 있는 가정을 대상으로 설문조사를 진행한 결과, 국내서...</td>\n",
       "    </tr>\n",
       "    <tr>\n",
       "      <th>1</th>\n",
       "      <td>유기농 여성용품 브랜드 라엘은 다양한 고객 이벤트와 함께 생리대와 여성청결제 마스크...</td>\n",
       "    </tr>\n",
       "    <tr>\n",
       "      <th>2</th>\n",
       "      <td>메르스 효과로 인한 중국 노선 부진이 성수기 내내 이어졌지만 3분기 대한항공은 2,...</td>\n",
       "    </tr>\n",
       "    <tr>\n",
       "      <th>3</th>\n",
       "      <td>음료베이스 및 퓨레, HMR 제품을 제조하는 식품 제조 전문기업인 우양은 이번 코스...</td>\n",
       "    </tr>\n",
       "    <tr>\n",
       "      <th>4</th>\n",
       "      <td>동사는 자동차용 스틸 파이프와 변속기용 플레이트를 생산하는 업체로 동 분야에서는 국...</td>\n",
       "    </tr>\n",
       "    <tr>\n",
       "      <th>...</th>\n",
       "      <td>...</td>\n",
       "    </tr>\n",
       "    <tr>\n",
       "      <th>3886</th>\n",
       "      <td>14일 금융감독원은  SKT 박정호 사장의 총 보수가 38억8100만원이라고 밝혔는...</td>\n",
       "    </tr>\n",
       "    <tr>\n",
       "      <th>3887</th>\n",
       "      <td>29일 KB 주택 가격 동향에 따르면 이달 전국 아파트 평균 전세가율은 70.6%로...</td>\n",
       "    </tr>\n",
       "    <tr>\n",
       "      <th>3888</th>\n",
       "      <td>HDC현대산업개발은 금년도 연결기준 2분기 영업이익이 1958억원으로 작년 대비 9...</td>\n",
       "    </tr>\n",
       "    <tr>\n",
       "      <th>3889</th>\n",
       "      <td>손자회사인 LS전선아시아가 상장 예비심사를 통과했고, 조만간 KOSPI에 상장될 것...</td>\n",
       "    </tr>\n",
       "    <tr>\n",
       "      <th>3890</th>\n",
       "      <td>소설 동의보감이 출간되자 담박에 베스트셀러가 되었고 나라에서는 1991년을 허준의 ...</td>\n",
       "    </tr>\n",
       "  </tbody>\n",
       "</table>\n",
       "<p>3891 rows × 1 columns</p>\n",
       "</div>"
      ],
      "text/plain": [
       "                                                summary\n",
       "0     호텔스닷컴은 지난 5월 자녀가 있는 가정을 대상으로 설문조사를 진행한 결과, 국내서...\n",
       "1     유기농 여성용품 브랜드 라엘은 다양한 고객 이벤트와 함께 생리대와 여성청결제 마스크...\n",
       "2     메르스 효과로 인한 중국 노선 부진이 성수기 내내 이어졌지만 3분기 대한항공은 2,...\n",
       "3     음료베이스 및 퓨레, HMR 제품을 제조하는 식품 제조 전문기업인 우양은 이번 코스...\n",
       "4     동사는 자동차용 스틸 파이프와 변속기용 플레이트를 생산하는 업체로 동 분야에서는 국...\n",
       "...                                                 ...\n",
       "3886  14일 금융감독원은  SKT 박정호 사장의 총 보수가 38억8100만원이라고 밝혔는...\n",
       "3887  29일 KB 주택 가격 동향에 따르면 이달 전국 아파트 평균 전세가율은 70.6%로...\n",
       "3888  HDC현대산업개발은 금년도 연결기준 2분기 영업이익이 1958억원으로 작년 대비 9...\n",
       "3889  손자회사인 LS전선아시아가 상장 예비심사를 통과했고, 조만간 KOSPI에 상장될 것...\n",
       "3890  소설 동의보감이 출간되자 담박에 베스트셀러가 되었고 나라에서는 1991년을 허준의 ...\n",
       "\n",
       "[3891 rows x 1 columns]"
      ]
     },
     "execution_count": 104,
     "metadata": {},
     "output_type": "execute_result"
    }
   ],
   "source": [
    "# 인덱스 다시 0번부터 설정\n",
    "docs.reset_index(drop=True, inplace=True)\n",
    "docs"
   ]
  },
  {
   "cell_type": "code",
   "execution_count": 105,
   "metadata": {},
   "outputs": [
    {
     "data": {
      "text/html": [
       "<div>\n",
       "<style scoped>\n",
       "    .dataframe tbody tr th:only-of-type {\n",
       "        vertical-align: middle;\n",
       "    }\n",
       "\n",
       "    .dataframe tbody tr th {\n",
       "        vertical-align: top;\n",
       "    }\n",
       "\n",
       "    .dataframe thead th {\n",
       "        text-align: right;\n",
       "    }\n",
       "</style>\n",
       "<table border=\"1\" class=\"dataframe\">\n",
       "  <thead>\n",
       "    <tr style=\"text-align: right;\">\n",
       "      <th></th>\n",
       "      <th>model_summary</th>\n",
       "      <th>summary</th>\n",
       "    </tr>\n",
       "  </thead>\n",
       "  <tbody>\n",
       "    <tr>\n",
       "      <th>0</th>\n",
       "      <td>호텔스닷컴이 그랜드 워커힐 서울과 협업해 꾸민 '호텔스닷컴 벨퍼그 랜드 룸'은 놀이...</td>\n",
       "      <td>호텔스닷컴은 지난 5월 자녀가 있는 가정을 대상으로 설문조사를 진행한 결과, 국내서...</td>\n",
       "    </tr>\n",
       "    <tr>\n",
       "      <th>1</th>\n",
       "      <td>유기농 여성용품 브랜드 라엘은 국내 공식 쇼핑몰을 열었다고 12일 밝혔으며 이번 개...</td>\n",
       "      <td>유기농 여성용품 브랜드 라엘은 다양한 고객 이벤트와 함께 생리대와 여성청결제 마스크...</td>\n",
       "    </tr>\n",
       "    <tr>\n",
       "      <th>2</th>\n",
       "      <td>지난 3분기 대한항공은 IFRS 연결 기준 매출액 2조9,686억원(YoY 기준 -...</td>\n",
       "      <td>메르스 효과로 인한 중국 노선 부진이 성수기 내내 이어졌지만 3분기 대한항공은 2,...</td>\n",
       "    </tr>\n",
       "    <tr>\n",
       "      <th>3</th>\n",
       "      <td>이우열 우양 대표는 6일 서울 여의도에서 열린 기업공개(IPO) 기자간담회에서 B2...</td>\n",
       "      <td>음료베이스 및 퓨레, HMR 제품을 제조하는 식품 제조 전문기업인 우양은 이번 코스...</td>\n",
       "    </tr>\n",
       "    <tr>\n",
       "      <th>4</th>\n",
       "      <td>자동차용 스틸 파이프와 변속기용 플레이트 부문 일인자 동사는 1977년 설립되었으며...</td>\n",
       "      <td>동사는 자동차용 스틸 파이프와 변속기용 플레이트를 생산하는 업체로 동 분야에서는 국...</td>\n",
       "    </tr>\n",
       "    <tr>\n",
       "      <th>...</th>\n",
       "      <td>...</td>\n",
       "      <td>...</td>\n",
       "    </tr>\n",
       "    <tr>\n",
       "      <th>3886</th>\n",
       "      <td>박정호 SK텔레콤 사장이 SK텔레콤, KT, LG유플러스 등 이동통신3사 최고경영자...</td>\n",
       "      <td>14일 금융감독원은  SKT 박정호 사장의 총 보수가 38억8100만원이라고 밝혔는...</td>\n",
       "    </tr>\n",
       "    <tr>\n",
       "      <th>3887</th>\n",
       "      <td>전세가율(매매가격 대비 전사가격 비율)이 80%가 넘는 지역 내 신규 물량에 내 집...</td>\n",
       "      <td>29일 KB 주택 가격 동향에 따르면 이달 전국 아파트 평균 전세가율은 70.6%로...</td>\n",
       "    </tr>\n",
       "    <tr>\n",
       "      <th>3888</th>\n",
       "      <td>GS건설과 HDC현대산업개발이 올 2분기 실적에서 희비가 엇갈렸지만 수익성이나 재무...</td>\n",
       "      <td>HDC현대산업개발은 금년도 연결기준 2분기 영업이익이 1958억원으로 작년 대비 9...</td>\n",
       "    </tr>\n",
       "    <tr>\n",
       "      <th>3889</th>\n",
       "      <td>LS의 손자회사인 LS전선아시아가 유가증권시장 예비심사를 통과하여 늦어도 9월 내에...</td>\n",
       "      <td>손자회사인 LS전선아시아가 상장 예비심사를 통과했고, 조만간 KOSPI에 상장될 것...</td>\n",
       "    </tr>\n",
       "    <tr>\n",
       "      <th>3890</th>\n",
       "      <td>창작과비평사에서 1990년 《소설 동의보감》(전 3권)이 출간되자 350만 부가 팔...</td>\n",
       "      <td>소설 동의보감이 출간되자 담박에 베스트셀러가 되었고 나라에서는 1991년을 허준의 ...</td>\n",
       "    </tr>\n",
       "  </tbody>\n",
       "</table>\n",
       "<p>3891 rows × 2 columns</p>\n",
       "</div>"
      ],
      "text/plain": [
       "                                          model_summary  \\\n",
       "0     호텔스닷컴이 그랜드 워커힐 서울과 협업해 꾸민 '호텔스닷컴 벨퍼그 랜드 룸'은 놀이...   \n",
       "1     유기농 여성용품 브랜드 라엘은 국내 공식 쇼핑몰을 열었다고 12일 밝혔으며 이번 개...   \n",
       "2     지난 3분기 대한항공은 IFRS 연결 기준 매출액 2조9,686억원(YoY 기준 -...   \n",
       "3     이우열 우양 대표는 6일 서울 여의도에서 열린 기업공개(IPO) 기자간담회에서 B2...   \n",
       "4     자동차용 스틸 파이프와 변속기용 플레이트 부문 일인자 동사는 1977년 설립되었으며...   \n",
       "...                                                 ...   \n",
       "3886  박정호 SK텔레콤 사장이 SK텔레콤, KT, LG유플러스 등 이동통신3사 최고경영자...   \n",
       "3887  전세가율(매매가격 대비 전사가격 비율)이 80%가 넘는 지역 내 신규 물량에 내 집...   \n",
       "3888  GS건설과 HDC현대산업개발이 올 2분기 실적에서 희비가 엇갈렸지만 수익성이나 재무...   \n",
       "3889  LS의 손자회사인 LS전선아시아가 유가증권시장 예비심사를 통과하여 늦어도 9월 내에...   \n",
       "3890  창작과비평사에서 1990년 《소설 동의보감》(전 3권)이 출간되자 350만 부가 팔...   \n",
       "\n",
       "                                                summary  \n",
       "0     호텔스닷컴은 지난 5월 자녀가 있는 가정을 대상으로 설문조사를 진행한 결과, 국내서...  \n",
       "1     유기농 여성용품 브랜드 라엘은 다양한 고객 이벤트와 함께 생리대와 여성청결제 마스크...  \n",
       "2     메르스 효과로 인한 중국 노선 부진이 성수기 내내 이어졌지만 3분기 대한항공은 2,...  \n",
       "3     음료베이스 및 퓨레, HMR 제품을 제조하는 식품 제조 전문기업인 우양은 이번 코스...  \n",
       "4     동사는 자동차용 스틸 파이프와 변속기용 플레이트를 생산하는 업체로 동 분야에서는 국...  \n",
       "...                                                 ...  \n",
       "3886  14일 금융감독원은  SKT 박정호 사장의 총 보수가 38억8100만원이라고 밝혔는...  \n",
       "3887  29일 KB 주택 가격 동향에 따르면 이달 전국 아파트 평균 전세가율은 70.6%로...  \n",
       "3888  HDC현대산업개발은 금년도 연결기준 2분기 영업이익이 1958억원으로 작년 대비 9...  \n",
       "3889  손자회사인 LS전선아시아가 상장 예비심사를 통과했고, 조만간 KOSPI에 상장될 것...  \n",
       "3890  소설 동의보감이 출간되자 담박에 베스트셀러가 되었고 나라에서는 1991년을 허준의 ...  \n",
       "\n",
       "[3891 rows x 2 columns]"
      ]
     },
     "execution_count": 105,
     "metadata": {},
     "output_type": "execute_result"
    }
   ],
   "source": [
    "full = pd.concat([ft, docs], axis=1)\n",
    "full"
   ]
  },
  {
   "attachments": {},
   "cell_type": "markdown",
   "metadata": {},
   "source": [
    "#### rouge score 구하기"
   ]
  },
  {
   "cell_type": "code",
   "execution_count": 106,
   "metadata": {},
   "outputs": [],
   "source": [
    "# 리스트로 만들기\n",
    "label = list(full['summary'])\n",
    "pred = list(full['model_summary'])"
   ]
  },
  {
   "cell_type": "code",
   "execution_count": 107,
   "metadata": {},
   "outputs": [
    {
     "data": {
      "text/plain": [
       "{'rouge-1': {'r': 0.257033663730609,\n",
       "  'p': 0.2861534636233934,\n",
       "  'f': 0.2573989602161225},\n",
       " 'rouge-2': {'r': 0.15061863786025673,\n",
       "  'p': 0.1726932527515015,\n",
       "  'f': 0.15233133707265806},\n",
       " 'rouge-l': {'r': 0.23987554072820785,\n",
       "  'p': 0.26751057197103295,\n",
       "  'f': 0.2403495623466929}}"
      ]
     },
     "execution_count": 107,
     "metadata": {},
     "output_type": "execute_result"
    }
   ],
   "source": [
    "from rouge import Rouge\n",
    "\n",
    "rouge = Rouge()\n",
    "rouge.get_scores(pred, label, avg=True)"
   ]
  },
  {
   "cell_type": "code",
   "execution_count": 108,
   "metadata": {},
   "outputs": [
    {
     "name": "stdout",
     "output_type": "stream",
     "text": [
      "ROUGE score :  0.3344097021326035\n",
      "Precision score :  0.34786738804605305\n",
      "Recall score :  0.4044966921630899\n"
     ]
    }
   ],
   "source": [
    "from rouge_score import rouge_scorer\n",
    "import numpy as np\n",
    "\n",
    "scorer = rouge_scorer.RougeScorer(['rouge1'], use_stemmer=True)\n",
    "\n",
    "total_score = []\n",
    "total_precision = []\n",
    "total_recall = []\n",
    "\n",
    "for l, p in zip(label,pred):\n",
    "    scores = scorer.score(l,p)\n",
    "    total_score.append(scores['rouge1'].fmeasure)\n",
    "    total_precision.append(scores['rouge1'].precision)\n",
    "    total_recall.append(scores['rouge1'].recall)\n",
    "\n",
    "print('ROUGE score : ',np.mean(total_score))\n",
    "print('Precision score : ',np.mean(total_precision))\n",
    "print('Recall score : ',np.mean(total_recall))"
   ]
  },
  {
   "cell_type": "code",
   "execution_count": null,
   "metadata": {},
   "outputs": [],
   "source": [
    "# https://dodonam.tistory.com/368 여기서 rouge score 참조"
   ]
  }
 ],
 "metadata": {
  "kernelspec": {
   "display_name": "seongju",
   "language": "python",
   "name": "python3"
  },
  "language_info": {
   "codemirror_mode": {
    "name": "ipython",
    "version": 3
   },
   "file_extension": ".py",
   "mimetype": "text/x-python",
   "name": "python",
   "nbconvert_exporter": "python",
   "pygments_lexer": "ipython3",
   "version": "3.7.9"
  },
  "orig_nbformat": 4,
  "vscode": {
   "interpreter": {
    "hash": "4ac64377bdf20d7c56505465f573d42c9a70025c609fb86d41fb4deb22be2428"
   }
  }
 },
 "nbformat": 4,
 "nbformat_minor": 2
}
