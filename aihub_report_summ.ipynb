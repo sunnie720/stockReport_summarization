{
 "cells": [
  {
   "cell_type": "code",
   "execution_count": 1,
   "metadata": {},
   "outputs": [],
   "source": [
    "import os\n",
    "import pandas as pd\n",
    "import numpy as np\n",
    "import matplotlib.pyplot as plt\n",
    "import seaborn as sns\n",
    "from IPython.display import display\n",
    "from tqdm import tqdm\n",
    "\n",
    "import requests\n",
    "import json\n",
    "\n",
    "# 그래프에서 마이너스 폰트 깨지는 문제에 대한 대처\n",
    "# matplotlib.rcParams['axes.unicode_minus'] = False\n",
    "plt.rcParams['axes.unicode_minus'] = False\n",
    "\n",
    "import warnings\n",
    "warnings.filterwarnings('ignore')"
   ]
  },
  {
   "cell_type": "markdown",
   "metadata": {},
   "source": [
    "## json 파일 확인 예시 - 2~3sent"
   ]
  },
  {
   "cell_type": "code",
   "execution_count": 7,
   "metadata": {},
   "outputs": [
    {
     "name": "stdout",
     "output_type": "stream",
     "text": [
      "{\n",
      "\t\"Meta(Acqusition)\": {\n",
      "\t\t\"doc_id\": \"REPORT-paper-00001\",\n",
      "\t\t\"doc_category\": \"REPORT\",\n",
      "\t\t\"doc_type\": \"paper\",\n",
      "\t\t\"doc_name\": \"(결과보고서)공공기관 관리정책의 진단과 대책 토론회.pdf\",\n",
      "\t\t\"author\": null,\n",
      "\t\t\"publisher\": null,\n",
      "\t\t\"publisher_year\": null,\n",
      "\t\t\"doc_origin\": \"국회예산정책처\"\n",
      "\t},\n",
      "\t\"Meta(Refine)\": {\n",
      "\t\t\"passage_id\": \"REPORT-paper-00001-00084\",\n",
      "\t\t\"passage\": \"그리고 임금의 문제에 있어서도 아까 말씀하실 때 일반 직원들의 임금의 문제도 지적하셨지만 저는 일반 직원들과 임원들의 임금의 격차의 문제도 주목해 봐야 된다고 봅니다.  제가 봄에 협동조합 문제를 연구하기 위해서 스페인의 몬드라곤 그룹을 방문한 적이 있습니다. 그 그룹의 경우에는 임원과 평직원의 임금의 격차가 5배를 넘지 않습니다. 내부의 공공성을 유지하기 위해서 임금 문제에 있어서도 나름대로의 공평성을 유지하고 있는 거라고 생각이 됩니다. 그런데 우리나라에서 공공기관의 임원들의 임금이 어느 정도 수준입니까? 이 격차의 수준이 10배, 어떤 데는 20배 이런 일들이 벌어지고 있습니다. 이런 것들은 조정하는 것이 맞다 이렇게 생각이 됩니다.  시간이 없기 때문에 마지막으로 말씀을 드리면, 공공기관은 사기업이 아닙니다. 그렇기 때문에 이것을 운영하는 데 있어서 사업으로서, 기업으로서의 효율성의 문제도 봐야 되지만 국민의 이익을 위해서 하는 사업이기 때문에 공공성과 공익성에 부합할 수 있도록 하는 두 가지의 측면이 동시에 작용되어야 된다고 생각이 됩니다. 그런데 기업으로서의 효율성 측면에는 우리가 굉장히 많은 관심을 갖지만 공공성이나 공익성의 문제에 대해서는 관심을 갖고 있지 않습니다.  그러면 이런 공공성과 공익성의 문제를 담보할 수 있는 것은 공공기관운영위원회 내에 이런 목소리를 담을 수 있는 사람들이 참여할 수 있도록 해야 됩니다.\",\n",
      "\t\t\"passage_Cnt\": 699\n",
      "\t},\n",
      "\t\"Annotation\": {\n",
      "\t\t\"summary1\": \"우리나라에서 공공기관 임원들의 임금 격차 수준이 10배, 20배인 것들은 조정하는 것이 맞다.\",\n",
      "\t\t\"summary2\": \"그런데 우리나라에서 공공기관의 임원들의 임금이 어느 정도 수준입니까? 이 격차의 수준이 10배, 어떤 데는 20배 이런 일들이 벌어지고 있습니다. 이런 것들은 조정하는 것이 맞다 이렇게 생각이 됩니다.\",\n",
      "\t\t\"summary3\": null,\n",
      "\t\t\"summary_3_cnt\": null\n",
      "\t}\n",
      "}\n"
     ]
    }
   ],
   "source": [
    "# json 파일 불러오기\n",
    "with open('04.paper_TrainLabel/2~3sent/REPORT-paper-00001-00084.json', 'r') as f:\n",
    "    json_data = json.load(f)\n",
    "    \n",
    "# print(json_data) # dictionary 타입으로 불러오기 \n",
    "print(json.dumps(json_data, ensure_ascii=False, indent='\\t')) # str 타입으로 불러오기"
   ]
  },
  {
   "cell_type": "code",
   "execution_count": 8,
   "metadata": {},
   "outputs": [
    {
     "name": "stdout",
     "output_type": "stream",
     "text": [
      "<class 'dict'>\n",
      "<class 'str'>\n"
     ]
    }
   ],
   "source": [
    "print(type(json_data))\n",
    "print(type(json.dumps(json_data, ensure_ascii=False, indent='\\t')))"
   ]
  },
  {
   "cell_type": "code",
   "execution_count": 12,
   "metadata": {},
   "outputs": [
    {
     "data": {
      "text/plain": [
       "'우리나라에서 공공기관 임원들의 임금 격차 수준이 10배, 20배인 것들은 조정하는 것이 맞다.'"
      ]
     },
     "execution_count": 12,
     "metadata": {},
     "output_type": "execute_result"
    }
   ],
   "source": [
    "# 요약문 - 생성요약\n",
    "json_data[\"Annotation\"][\"summary1\"]"
   ]
  },
  {
   "cell_type": "code",
   "execution_count": 11,
   "metadata": {},
   "outputs": [
    {
     "data": {
      "text/plain": [
       "'그리고 임금의 문제에 있어서도 아까 말씀하실 때 일반 직원들의 임금의 문제도 지적하셨지만 저는 일반 직원들과 임원들의 임금의 격차의 문제도 주목해 봐야 된다고 봅니다.  제가 봄에 협동조합 문제를 연구하기 위해서 스페인의 몬드라곤 그룹을 방문한 적이 있습니다. 그 그룹의 경우에는 임원과 평직원의 임금의 격차가 5배를 넘지 않습니다. 내부의 공공성을 유지하기 위해서 임금 문제에 있어서도 나름대로의 공평성을 유지하고 있는 거라고 생각이 됩니다. 그런데 우리나라에서 공공기관의 임원들의 임금이 어느 정도 수준입니까? 이 격차의 수준이 10배, 어떤 데는 20배 이런 일들이 벌어지고 있습니다. 이런 것들은 조정하는 것이 맞다 이렇게 생각이 됩니다.  시간이 없기 때문에 마지막으로 말씀을 드리면, 공공기관은 사기업이 아닙니다. 그렇기 때문에 이것을 운영하는 데 있어서 사업으로서, 기업으로서의 효율성의 문제도 봐야 되지만 국민의 이익을 위해서 하는 사업이기 때문에 공공성과 공익성에 부합할 수 있도록 하는 두 가지의 측면이 동시에 작용되어야 된다고 생각이 됩니다. 그런데 기업으로서의 효율성 측면에는 우리가 굉장히 많은 관심을 갖지만 공공성이나 공익성의 문제에 대해서는 관심을 갖고 있지 않습니다.  그러면 이런 공공성과 공익성의 문제를 담보할 수 있는 것은 공공기관운영위원회 내에 이런 목소리를 담을 수 있는 사람들이 참여할 수 있도록 해야 됩니다.'"
      ]
     },
     "execution_count": 11,
     "metadata": {},
     "output_type": "execute_result"
    }
   ],
   "source": [
    "# 본문\n",
    "json_data[\"Meta(Refine)\"]['passage']"
   ]
  },
  {
   "cell_type": "markdown",
   "metadata": {},
   "source": [
    "## json 파일 확인 예시 - 20per"
   ]
  },
  {
   "cell_type": "code",
   "execution_count": 14,
   "metadata": {},
   "outputs": [
    {
     "name": "stdout",
     "output_type": "stream",
     "text": [
      "{\n",
      "\t\"Meta(Acqusition)\": {\n",
      "\t\t\"doc_id\": \"REPORT-paper-00001\",\n",
      "\t\t\"doc_category\": \"REPORT\",\n",
      "\t\t\"doc_type\": \"paper\",\n",
      "\t\t\"doc_name\": \"(결과보고서)공공기관 관리정책의 진단과 대책 토론회.pdf\",\n",
      "\t\t\"author\": null,\n",
      "\t\t\"publisher\": null,\n",
      "\t\t\"publisher_year\": null,\n",
      "\t\t\"doc_origin\": \"국회예산정책처\"\n",
      "\t},\n",
      "\t\"Meta(Refine)\": {\n",
      "\t\t\"passage_id\": \"REPORT-paper-00001-00017\",\n",
      "\t\t\"passage\": \"철저한 원가 분석을 통해 원가에 미달하는 가격규제로 인해 부채가 발생한 부분과 그렇지 않는 부분을 구분하여 규명해야 함. 셋째, 정부 주도 정책들로서 먼저 공공기관부터 시범 실시해보라고 떠넘긴 경우.－ 주로 임금과 노동 관련 정책들의 경우임. 예를 들어 근로자 복지 기본법이 2010년 제정 되어 선택적 근로자 복지 제도가 생겨남.－ 이른바 카페테리아 플랜이라는 제도가 복리후생의 핵심이었는데 민간기업이 선뜻 채택을 하지 않자 공기업부터 먼저 실시해보라고 함.－ 또 정년연장, 임금피크제 등 정부 정책을 공기업부터 실시해보라고 해서 생긴 원가의 상승 압력이 분명히 있음.  넷째, 자체 부실 문제. 부채의 원인을 위 네 가지 유형으로 구분해서 부채의 원인 규명해야 함.  그러므로 구분회계부터 먼저 시작을 해야 함.－ 현재 부채 493조 중 일부는 발생 원인을 명확히 규명할 수 없을지도 모름. － 그러나 각 기관별로 상당부문은 각 사업의 어떤 부분이 어떤 원인에 의해 발생했는지 귀책사유를 밝히는 것이 가능하다고 봄. 국가 부채의 전반적인 관리시스템 혁신 우리나라는 OECD 가입 국가임에도 국가부채 통계를 1년에 딱 한 번 그것도 5월에 발표함.－ 우리는 1년에 한 번 그나마 전년도의 부채를 다음해 5월에 발표하므로 지금 우리가 사용하는 국가부채 통계는 2012년 기준임.－ 게다가 1년 동안 어떻게 변화되어 왔는지 알 수 있는 통계자료가 발표되지 않고 있음.  미국의 경우 뉴욕 타임스퀘어에 국가부채시계(National Debt Clock)를 설치하여 현재 국가 부채가 얼마인지 알려주고, 웹 사이트를 통해 실시간으로 변동되는 공공부채규모를 각 부문별로 보여주고 있음.\",\n",
      "\t\t\"passage_Cnt\": 826\n",
      "\t},\n",
      "\t\"Annotation\": {\n",
      "\t\t\"summary1\": \"우리나라는 국가부채 통계를 1년에 딱 한 번 발표하므로 1년 동안 어떻게 변화되어 왔는지 알 수 없지만 미국의 경우 실시간으로 변동되는 공공부채규모를 부문별로 보여주고 있다.\",\n",
      "\t\t\"summary2\": null,\n",
      "\t\t\"summary3\": \"우리나라는 OECD 가입 국가임에도 국가부채 통계를 1년에 딱 한 번 그것도 5월에 발표함. － 게다가 1년 동안 어떻게 변화되어 왔는지 알 수 있는 통계자료가 발표되지 않고 있음. 미국의 경우 뉴욕 타임스퀘어에 국가부채시계(National Debt Clock)를 설치하여 현재 국가 부채가 얼마인지 알려주고, 웹 사이트를 통해 실시간으로 변동되는 공공부채규모를 각 부문별로 보여주고 있음.\",\n",
      "\t\t\"summary_3_cnt\": 220\n",
      "\t}\n",
      "}\n"
     ]
    }
   ],
   "source": [
    "# json 파일 불러오기\n",
    "with open('04.paper_TrainLabel/20per/REPORT-paper-00001-00017.json', 'r') as f:\n",
    "    json_data = json.load(f)\n",
    "    \n",
    "# print(json_data) # dictionary 타입으로 불러오기 \n",
    "print(json.dumps(json_data, ensure_ascii=False, indent='\\t')) # str 타입으로 불러오기"
   ]
  },
  {
   "cell_type": "code",
   "execution_count": 15,
   "metadata": {},
   "outputs": [
    {
     "data": {
      "text/plain": [
       "'우리나라는 국가부채 통계를 1년에 딱 한 번 발표하므로 1년 동안 어떻게 변화되어 왔는지 알 수 없지만 미국의 경우 실시간으로 변동되는 공공부채규모를 부문별로 보여주고 있다.'"
      ]
     },
     "execution_count": 15,
     "metadata": {},
     "output_type": "execute_result"
    }
   ],
   "source": [
    "# 요약문 - 생성요약\n",
    "json_data[\"Annotation\"][\"summary1\"]"
   ]
  },
  {
   "cell_type": "code",
   "execution_count": 16,
   "metadata": {},
   "outputs": [
    {
     "data": {
      "text/plain": [
       "'철저한 원가 분석을 통해 원가에 미달하는 가격규제로 인해 부채가 발생한 부분과 그렇지 않는 부분을 구분하여 규명해야 함. 셋째, 정부 주도 정책들로서 먼저 공공기관부터 시범 실시해보라고 떠넘긴 경우.－ 주로 임금과 노동 관련 정책들의 경우임. 예를 들어 근로자 복지 기본법이 2010년 제정 되어 선택적 근로자 복지 제도가 생겨남.－ 이른바 카페테리아 플랜이라는 제도가 복리후생의 핵심이었는데 민간기업이 선뜻 채택을 하지 않자 공기업부터 먼저 실시해보라고 함.－ 또 정년연장, 임금피크제 등 정부 정책을 공기업부터 실시해보라고 해서 생긴 원가의 상승 압력이 분명히 있음.  넷째, 자체 부실 문제. 부채의 원인을 위 네 가지 유형으로 구분해서 부채의 원인 규명해야 함.  그러므로 구분회계부터 먼저 시작을 해야 함.－ 현재 부채 493조 중 일부는 발생 원인을 명확히 규명할 수 없을지도 모름. － 그러나 각 기관별로 상당부문은 각 사업의 어떤 부분이 어떤 원인에 의해 발생했는지 귀책사유를 밝히는 것이 가능하다고 봄. 국가 부채의 전반적인 관리시스템 혁신 우리나라는 OECD 가입 국가임에도 국가부채 통계를 1년에 딱 한 번 그것도 5월에 발표함.－ 우리는 1년에 한 번 그나마 전년도의 부채를 다음해 5월에 발표하므로 지금 우리가 사용하는 국가부채 통계는 2012년 기준임.－ 게다가 1년 동안 어떻게 변화되어 왔는지 알 수 있는 통계자료가 발표되지 않고 있음.  미국의 경우 뉴욕 타임스퀘어에 국가부채시계(National Debt Clock)를 설치하여 현재 국가 부채가 얼마인지 알려주고, 웹 사이트를 통해 실시간으로 변동되는 공공부채규모를 각 부문별로 보여주고 있음.'"
      ]
     },
     "execution_count": 16,
     "metadata": {},
     "output_type": "execute_result"
    }
   ],
   "source": [
    "# 본문\n",
    "json_data[\"Meta(Refine)\"]['passage']"
   ]
  },
  {
   "cell_type": "markdown",
   "metadata": {},
   "source": [
    "## 전체 json 파일 불러와서 요약문, 본문 데이터프레임에 넣기\n",
    "- 2~3sent 폴더 내 json 파일들과 20per 폴더 내 json 파일들은 모두 다른 본문에 summary1(생성요약) 존재\n",
    "- train, valid의 모든 데이터(2~3sent, 20per) 총 11,000개 데이터 모두 가져오기 "
   ]
  },
  {
   "cell_type": "code",
   "execution_count": 20,
   "metadata": {},
   "outputs": [
    {
     "data": {
      "text/plain": [
       "['.DS_Store', '2~3sent', '20per']"
      ]
     },
     "execution_count": 20,
     "metadata": {},
     "output_type": "execute_result"
    }
   ],
   "source": [
    "os.listdir('04.paper_TrainLabel')"
   ]
  },
  {
   "cell_type": "code",
   "execution_count": 44,
   "metadata": {},
   "outputs": [
    {
     "name": "stdout",
     "output_type": "stream",
     "text": [
      "4000\n",
      "4000\n",
      "500\n",
      "500\n"
     ]
    }
   ],
   "source": [
    "print(len(os.listdir('04.paper_TrainLabel/2~3sent')))\n",
    "print(len(os.listdir('04.paper_TrainLabel/20per')))\n",
    "print(len(os.listdir('04.paper_ValidLabel/2~3sent')))\n",
    "print(len(os.listdir('04.paper_ValidLabel/20per')))"
   ]
  },
  {
   "cell_type": "code",
   "execution_count": 2,
   "metadata": {},
   "outputs": [],
   "source": [
    "def getSummBody_json(path, df, idx):\n",
    "    for file in os.listdir(path):\n",
    "        # json 파일 dictionary 타입으로 불러오기\n",
    "        with open(path+'/'+file, 'r') as f:\n",
    "            json_data = json.load(f)\n",
    "        # 요약문 - 생성요약\n",
    "        summ = json_data[\"Annotation\"][\"summary1\"] \n",
    "        # 본문\n",
    "        body = json_data[\"Meta(Refine)\"]['passage']\n",
    "        # 데이터프레임에 추가\n",
    "        df.loc[idx] = [summ, body]\n",
    "        idx += 1\n",
    "\n",
    "# 데이터프레임 생성\n",
    "data = pd.DataFrame(columns=['summary','full_body'])\n",
    "\n",
    "# Train - 2~3sent\n",
    "getSummBody_json(path='04.paper_TrainLabel/2~3sent', df=data, idx=0)      # 4000개\n",
    "# Train - 20per\n",
    "getSummBody_json(path='04.paper_TrainLabel/20per', df=data, idx=4000)   # 4000개\n",
    "# Valid - 2~3sent\n",
    "getSummBody_json(path='04.paper_ValidLabel/2~3sent', df=data, idx=8000)   # 500개\n",
    "# Valid - 20per\n",
    "getSummBody_json(path='04.paper_ValidLabel/20per', df=data, idx=8500)   # 500개"
   ]
  },
  {
   "cell_type": "code",
   "execution_count": 3,
   "metadata": {},
   "outputs": [
    {
     "data": {
      "text/html": [
       "<div>\n",
       "<style scoped>\n",
       "    .dataframe tbody tr th:only-of-type {\n",
       "        vertical-align: middle;\n",
       "    }\n",
       "\n",
       "    .dataframe tbody tr th {\n",
       "        vertical-align: top;\n",
       "    }\n",
       "\n",
       "    .dataframe thead th {\n",
       "        text-align: right;\n",
       "    }\n",
       "</style>\n",
       "<table border=\"1\" class=\"dataframe\">\n",
       "  <thead>\n",
       "    <tr style=\"text-align: right;\">\n",
       "      <th></th>\n",
       "      <th>summary</th>\n",
       "      <th>full_body</th>\n",
       "    </tr>\n",
       "  </thead>\n",
       "  <tbody>\n",
       "    <tr>\n",
       "      <th>0</th>\n",
       "      <td>학생들에게 놀이를 통해 배움에 대한 흥미와 즐거움을 주기 위해 슬로 리딩을 고안해 ...</td>\n",
       "      <td>집중과 몰입을 강조할 때, 초보적인 독자가 가지기 쉬운 오류는 그것이 빠른 속도에...</td>\n",
       "    </tr>\n",
       "    <tr>\n",
       "      <th>1</th>\n",
       "      <td>1907년 한국 대학 최초의 동창회로 출발해 자생적인 상부상조 망으로 발전한 고려대...</td>\n",
       "      <td>고려대 동문들의 모교 사랑이 비난받아야 할 이유가 될까. 그건 정말 비정상인가. ...</td>\n",
       "    </tr>\n",
       "    <tr>\n",
       "      <th>2</th>\n",
       "      <td>지역아동센터의 다양한 프로그램을 개발할 수 있는 지출이 충분하지 못하고 지역 법정기...</td>\n",
       "      <td>둘째 지역아동센터의 다양한 프로그램을 개발할 수 있는 지출이 충분하지 않다는 것이다...</td>\n",
       "    </tr>\n",
       "    <tr>\n",
       "      <th>3</th>\n",
       "      <td>통계청 자료와 의료보험 자료와 기초수급제도 자료를 넣어서 통계를 돌려 보니 617만...</td>\n",
       "      <td>저희 의원실에서 조사를 해 보니까 비수급 빈곤층의 보건사회연구원에서는 추계치로 40...</td>\n",
       "    </tr>\n",
       "    <tr>\n",
       "      <th>4</th>\n",
       "      <td>평가 제도와 성과주의예산제도는 어떻게 연계시키고 기능조정을 할 것인지에 대해서 별다...</td>\n",
       "      <td>이러한 각종 평가 제도와 성과주의예산제도는 성과 제고를 지향한다는 점에서공통 성격을...</td>\n",
       "    </tr>\n",
       "    <tr>\n",
       "      <th>...</th>\n",
       "      <td>...</td>\n",
       "      <td>...</td>\n",
       "    </tr>\n",
       "    <tr>\n",
       "      <th>8995</th>\n",
       "      <td>상앙은 백성이 교육을 통해 법을 완전히 내 안에 넣고 스스로 적법한 행위를 판단하여...</td>\n",
       "      <td>“성인이 법령을 제정하면 반드시 백성에게 분명하게 보이고 알기 쉽게 하며 명분을 ...</td>\n",
       "    </tr>\n",
       "    <tr>\n",
       "      <th>8996</th>\n",
       "      <td>보건당국과 정부는 감염병 예방 및 관리에 관한 법률 제6조 2항을 위반했으며 이 조...</td>\n",
       "      <td>지금 심정 같아서는 정부를 법적 심판대에 올려놓고 싶은 마음까지 든다. 정부와 보...</td>\n",
       "    </tr>\n",
       "    <tr>\n",
       "      <th>8997</th>\n",
       "      <td>독립만세운동의 중요한 방편으로 발행된 조선독립신문은 월보과장 이종일의 지시로 편집원...</td>\n",
       "      <td>천도교(天道敎) 운영 인쇄소 보성사(普成社)에서는 독립선언서와 함께 《조선독립신문...</td>\n",
       "    </tr>\n",
       "    <tr>\n",
       "      <th>8998</th>\n",
       "      <td>구약성서에서 이집트의 시위대장 보디발의 처는 요셉을 모함하기 위해 요셉이 강간하려 ...</td>\n",
       "      <td>일단 왕비가 자신을 강간하려 했다고 모함하는 것부터가 충격이다. 옛날에는 왕이나 ...</td>\n",
       "    </tr>\n",
       "    <tr>\n",
       "      <th>8999</th>\n",
       "      <td>네덜란드 화훼의 경쟁력은 품질에 있다고 한 이 대표는 처분되는 꽃들 중 일반 시장에...</td>\n",
       "      <td>경매장에는 500석 규모의 경매실이 여덟 곳이나 있었다. 꽃의 종류와 규모에 따라...</td>\n",
       "    </tr>\n",
       "  </tbody>\n",
       "</table>\n",
       "<p>9000 rows × 2 columns</p>\n",
       "</div>"
      ],
      "text/plain": [
       "                                                summary  \\\n",
       "0     학생들에게 놀이를 통해 배움에 대한 흥미와 즐거움을 주기 위해 슬로 리딩을 고안해 ...   \n",
       "1     1907년 한국 대학 최초의 동창회로 출발해 자생적인 상부상조 망으로 발전한 고려대...   \n",
       "2     지역아동센터의 다양한 프로그램을 개발할 수 있는 지출이 충분하지 못하고 지역 법정기...   \n",
       "3     통계청 자료와 의료보험 자료와 기초수급제도 자료를 넣어서 통계를 돌려 보니 617만...   \n",
       "4     평가 제도와 성과주의예산제도는 어떻게 연계시키고 기능조정을 할 것인지에 대해서 별다...   \n",
       "...                                                 ...   \n",
       "8995  상앙은 백성이 교육을 통해 법을 완전히 내 안에 넣고 스스로 적법한 행위를 판단하여...   \n",
       "8996  보건당국과 정부는 감염병 예방 및 관리에 관한 법률 제6조 2항을 위반했으며 이 조...   \n",
       "8997  독립만세운동의 중요한 방편으로 발행된 조선독립신문은 월보과장 이종일의 지시로 편집원...   \n",
       "8998  구약성서에서 이집트의 시위대장 보디발의 처는 요셉을 모함하기 위해 요셉이 강간하려 ...   \n",
       "8999  네덜란드 화훼의 경쟁력은 품질에 있다고 한 이 대표는 처분되는 꽃들 중 일반 시장에...   \n",
       "\n",
       "                                              full_body  \n",
       "0      집중과 몰입을 강조할 때, 초보적인 독자가 가지기 쉬운 오류는 그것이 빠른 속도에...  \n",
       "1      고려대 동문들의 모교 사랑이 비난받아야 할 이유가 될까. 그건 정말 비정상인가. ...  \n",
       "2     둘째 지역아동센터의 다양한 프로그램을 개발할 수 있는 지출이 충분하지 않다는 것이다...  \n",
       "3     저희 의원실에서 조사를 해 보니까 비수급 빈곤층의 보건사회연구원에서는 추계치로 40...  \n",
       "4     이러한 각종 평가 제도와 성과주의예산제도는 성과 제고를 지향한다는 점에서공통 성격을...  \n",
       "...                                                 ...  \n",
       "8995   “성인이 법령을 제정하면 반드시 백성에게 분명하게 보이고 알기 쉽게 하며 명분을 ...  \n",
       "8996   지금 심정 같아서는 정부를 법적 심판대에 올려놓고 싶은 마음까지 든다. 정부와 보...  \n",
       "8997   천도교(天道敎) 운영 인쇄소 보성사(普成社)에서는 독립선언서와 함께 《조선독립신문...  \n",
       "8998   일단 왕비가 자신을 강간하려 했다고 모함하는 것부터가 충격이다. 옛날에는 왕이나 ...  \n",
       "8999   경매장에는 500석 규모의 경매실이 여덟 곳이나 있었다. 꽃의 종류와 규모에 따라...  \n",
       "\n",
       "[9000 rows x 2 columns]"
      ]
     },
     "execution_count": 3,
     "metadata": {},
     "output_type": "execute_result"
    }
   ],
   "source": [
    "data"
   ]
  },
  {
   "cell_type": "code",
   "execution_count": 47,
   "metadata": {},
   "outputs": [],
   "source": [
    "# data.to_csv('aihub_report_summ.csv', header=True, index=False)"
   ]
  },
  {
   "cell_type": "code",
   "execution_count": 10,
   "metadata": {},
   "outputs": [
    {
     "name": "stdout",
     "output_type": "stream",
     "text": [
      "Collecting fastparquet\n",
      "  Downloading fastparquet-2022.11.0-cp39-cp39-macosx_11_0_arm64.whl (580 kB)\n",
      "\u001b[2K     \u001b[90m━━━━━━━━━━━━━━━━━━━━━━━━━━━━━━━━━━━━━━\u001b[0m \u001b[32m580.5/580.5 kB\u001b[0m \u001b[31m19.0 MB/s\u001b[0m eta \u001b[36m0:00:00\u001b[0m\n",
      "\u001b[?25hCollecting fsspec\n",
      "  Downloading fsspec-2022.11.0-py3-none-any.whl (139 kB)\n",
      "\u001b[2K     \u001b[90m━━━━━━━━━━━━━━━━━━━━━━━━━━━━━━━━━━━━━━\u001b[0m \u001b[32m139.5/139.5 kB\u001b[0m \u001b[31m17.1 MB/s\u001b[0m eta \u001b[36m0:00:00\u001b[0m\n",
      "\u001b[?25hRequirement already satisfied: numpy>=1.20.3 in /Users/sunnie/miniconda3/envs/ns/lib/python3.9/site-packages (from fastparquet) (1.23.4)\n",
      "Requirement already satisfied: pandas>=1.5.0 in /Users/sunnie/miniconda3/envs/ns/lib/python3.9/site-packages (from fastparquet) (1.5.1)\n",
      "Collecting cramjam>=2.3\n",
      "  Downloading cramjam-2.6.2-cp39-cp39-macosx_10_9_x86_64.macosx_11_0_arm64.macosx_10_9_universal2.whl (3.2 MB)\n",
      "\u001b[2K     \u001b[90m━━━━━━━━━━━━━━━━━━━━━━━━━━━━━━━━━━━━━━━━\u001b[0m \u001b[32m3.2/3.2 MB\u001b[0m \u001b[31m37.0 MB/s\u001b[0m eta \u001b[36m0:00:00\u001b[0ma \u001b[36m0:00:01\u001b[0m\n",
      "\u001b[?25hRequirement already satisfied: packaging in /Users/sunnie/miniconda3/envs/ns/lib/python3.9/site-packages (from fastparquet) (21.3)\n",
      "Requirement already satisfied: python-dateutil>=2.8.1 in /Users/sunnie/miniconda3/envs/ns/lib/python3.9/site-packages (from pandas>=1.5.0->fastparquet) (2.8.2)\n",
      "Requirement already satisfied: pytz>=2020.1 in /Users/sunnie/miniconda3/envs/ns/lib/python3.9/site-packages (from pandas>=1.5.0->fastparquet) (2022.6)\n",
      "Requirement already satisfied: pyparsing!=3.0.5,>=2.0.2 in /Users/sunnie/miniconda3/envs/ns/lib/python3.9/site-packages (from packaging->fastparquet) (3.0.9)\n",
      "Requirement already satisfied: six>=1.5 in /Users/sunnie/miniconda3/envs/ns/lib/python3.9/site-packages (from python-dateutil>=2.8.1->pandas>=1.5.0->fastparquet) (1.16.0)\n",
      "Installing collected packages: fsspec, cramjam, fastparquet\n",
      "Successfully installed cramjam-2.6.2 fastparquet-2022.11.0 fsspec-2022.11.0\n"
     ]
    }
   ],
   "source": [
    "!pip install fastparquet # parquet 파일 저장을 위해 설치 "
   ]
  },
  {
   "cell_type": "code",
   "execution_count": 12,
   "metadata": {},
   "outputs": [],
   "source": [
    "data.to_parquet('aihub_report_summ.parquet', index=False, compression='gzip')"
   ]
  }
 ],
 "metadata": {
  "kernelspec": {
   "display_name": "Python 3.9.13 ('ns': conda)",
   "language": "python",
   "name": "python3"
  },
  "language_info": {
   "codemirror_mode": {
    "name": "ipython",
    "version": 3
   },
   "file_extension": ".py",
   "mimetype": "text/x-python",
   "name": "python",
   "nbconvert_exporter": "python",
   "pygments_lexer": "ipython3",
   "version": "3.9.13"
  },
  "orig_nbformat": 4,
  "vscode": {
   "interpreter": {
    "hash": "02112eb080b42ef83b4ceddb55002ef649000cf74c8214f962d70c0209d38fdc"
   }
  }
 },
 "nbformat": 4,
 "nbformat_minor": 2
}
