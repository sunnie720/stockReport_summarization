{
 "cells": [
  {
   "cell_type": "code",
   "execution_count": 9,
   "metadata": {},
   "outputs": [],
   "source": [
    "import numpy as np\n",
    "import pandas as pd\n",
    "from tqdm import tqdm, tqdm_pandas\n",
    "import torch\n",
    "from transformers import PreTrainedTokenizerFast\n",
    "from transformers import BartForConditionalGeneration"
   ]
  },
  {
   "cell_type": "code",
   "execution_count": 10,
   "metadata": {},
   "outputs": [
    {
     "data": {
      "application/vnd.jupyter.widget-view+json": {
       "model_id": "efad7780488a45b991e2c50a487d4d02",
       "version_major": 2,
       "version_minor": 0
      },
      "text/plain": [
       "Downloading:   0%|          | 0.00/109 [00:00<?, ?B/s]"
      ]
     },
     "metadata": {},
     "output_type": "display_data"
    },
    {
     "data": {
      "application/vnd.jupyter.widget-view+json": {
       "model_id": "7cb435130b3c4395b0ff4b54f76f2824",
       "version_major": 2,
       "version_minor": 0
      },
      "text/plain": [
       "Downloading:   0%|          | 0.00/295 [00:00<?, ?B/s]"
      ]
     },
     "metadata": {},
     "output_type": "display_data"
    },
    {
     "data": {
      "application/vnd.jupyter.widget-view+json": {
       "model_id": "af1379faaa69444688c4e70814892a4d",
       "version_major": 2,
       "version_minor": 0
      },
      "text/plain": [
       "Downloading:   0%|          | 0.00/682k [00:00<?, ?B/s]"
      ]
     },
     "metadata": {},
     "output_type": "display_data"
    },
    {
     "data": {
      "application/vnd.jupyter.widget-view+json": {
       "model_id": "f47af68e2b924f54bc9bb23427ccddf9",
       "version_major": 2,
       "version_minor": 0
      },
      "text/plain": [
       "Downloading:   0%|          | 0.00/1.20k [00:00<?, ?B/s]"
      ]
     },
     "metadata": {},
     "output_type": "display_data"
    },
    {
     "data": {
      "application/vnd.jupyter.widget-view+json": {
       "model_id": "d44cff4faac04549aeacad76629dac25",
       "version_major": 2,
       "version_minor": 0
      },
      "text/plain": [
       "Downloading:   0%|          | 0.00/496M [00:00<?, ?B/s]"
      ]
     },
     "metadata": {},
     "output_type": "display_data"
    }
   ],
   "source": [
    "tokenizer = PreTrainedTokenizerFast.from_pretrained('digit82/kobart-summarization')\n",
    "model = BartForConditionalGeneration.from_pretrained('digit82/kobart-summarization')"
   ]
  },
  {
   "cell_type": "code",
   "execution_count": 7,
   "metadata": {},
   "outputs": [],
   "source": [
    "text = \"\"\"호텔스닷컴이 그랜드 워커힐 서울과 협업해 꾸민 '호텔스닷컴 벨퍼그 랜드 룸' 세계적인 온라인 호텔 예약 사이트 호텔스닷컴이 본격적인 휴가철을 앞두고 \n",
    "'호텔스닷컴 벨퍼그 랜드 룸'을 17일 공개했다. 호텔스닷컴에 따르면 그랜드 워커힐 서울과 협업해 꾸민 이 방은 자사 마스코트인 '벨퍼그'를 테마로 내세웠다. \n",
    "특히 나이 어린 숙박객들이 호텔 방을 마음껏 즐길 수 있도록 놀이공원을 연상시키는 인테리어 소품과 장난감, 간식 등으로 가득 채워 놓았다. \n",
    "김상범 호텔스닷컴 대표는 \"자체 조사 결과 한국인들이 가장 선호하는 국내 여행은 사랑하는 이들과 함께 하는 힐링 여행이며 가족 여행이 빠지지 않았다\"며 \n",
    "\"특히 아이들이 즐거운 여행이야말로 진정 행복한 가족여행이라는 점에서 벨퍼그 랜드 룸을 선보이게 됐다\"고 말했다. \n",
    "호텔스닷컴은 앞서 지난 5월 자녀가 있는 가정을 대상으로 설문조사를 진행, 어린이들이 꿈꾸는 여행에 대해 조사를 했다. \n",
    "설문 결과 국내 4-7세 아동 중 62%가 12개월 내로 에버랜드를 방문하고 싶다고 밝혔고, 51%는 세계에서 가장 큰 디즈니랜드를 한번쯤 방문해 보고 싶다고 응답했다. \n",
    "또 '여행지 숙소를 마음껏 꾸밀 수 있다면 어떤 방을 만들고 싶나요?'라는 질문에 4~7세 아동 56%는 '알록달록한 미끄럼틀, 그네 등이 있는 숙소' 라고 답했다. \n",
    "같은 연령대의 응답자 중 42%는 방에서 좋아하는 젤리와 과자 등 좋아하는 간식을 맘껏 먹을 수 있으면 좋다고 밝혔다. \n",
    "호텔스닷컴이 그랜드 워커힐 서울과 협업해 꾸민 '호텔스닷컴 벨퍼그 랜드 룸' 호텔스닷컴 관계자는 \"어린 여행객들의 이같은 바람을 반영해 편안한 호텔 방에서 \n",
    "놀이공원의 즐거움을 경험할 수 있도록 '벨퍼그 랜드 룸'을 구현했다\"고 설명했다. 실제로 방안에 들어서면 아이들이 좋아하는 알록달록한 색으로 단장한 \n",
    "실내 미끄럼틀이 가장 먼저 시선을 사로잡는다. 어린이 전용 스낵바가 따로 마련돼 있으며, 유기농 과일주스, 건조 과일, 유기농 캔디와 젤리 등 간식거리가 풍성하게 담겨 있다. \n",
    "또 방의 한 쪽 벽에는 벨퍼그 랜드 룸이 선사하는 색다른 경험인 열기구 모형이 설치돼 열기구를 타고 세계여행을 하는 상상을 하거나 숨바꼭질 놀이를 할 수도 있다. \n",
    "김 대표는 \"그랜드 워커힐 서울에 론칭한 벨퍼그 랜드 룸은 호텔스닷컴이 아시아 태평양 지역에서 제공하고 있는 여러 가지 테마 공간의 연장선상에 있다\"며 \n",
    "\"벨퍼그 콘셉트 룸을 통해 엉뚱하면서도 유쾌한 호텔스닷컴의 마스코트 벨퍼그의 캐릭터를 더 많은 이들에게 소개할 것\"이라고 말했다. \n",
    "장진오 워커힐 호텔앤리조트 호텔 부문 마케팅 팀장은 \"가족 여행이 많은 여름 휴가 기간 동안 호텔스닷컴의 벨퍼그 테마를 담은 객실을 \n",
    "가족 여행의 목적지로 사랑받아온 그랜드 워커힐 서울에서 소개하게 돼 기쁘다\"며 \"벨퍼그 랜드 룸을 통해 어린이 고객들에게도 \n",
    "워커힐과 호텔스닷컴이 공통적으로 지향하는 최고의 여행, 최고의 경험을 전할 수 있길 바란다\"고 밝혔다. 벨퍼그 랜드 룸은 20일부터 9월 30일까지 호텔스닷컴을 통해 예약할 수 있다. \n",
    "하루 기준 숙박료는 30만3000원부터이며 벨퍼그 랜드 룸 이용 고객에게는 벨퍼그 인형과 여행 스크랩북 등 선물과 더불어 워커힐 키즈클럽과 레스토랑 이용 시 할인 혜택을 누릴 수 있다.\"\"\"\n",
    "\n",
    "text = text.replace('\\n', ' ')"
   ]
  },
  {
   "cell_type": "code",
   "execution_count": 11,
   "metadata": {},
   "outputs": [
    {
     "name": "stdout",
     "output_type": "stream",
     "text": [
      "호텔스닷컴이 그랜드 워커힐 서울과 협업해 꾸민 '호텔스닷컴 벨퍼그 랜드 룸'은 놀이공원을 연상시키는 인테리어 소품과 장난감, 간식 등으로 가득 채워져 있다.\n"
     ]
    }
   ],
   "source": [
    "if text:\n",
    "    input_ids = tokenizer.encode(text)\n",
    "    input_ids = torch.tensor(input_ids)\n",
    "    input_ids = input_ids.unsqueeze(0)\n",
    "    output = model.generate(input_ids, eos_token_id=1, max_length=512, num_beams=5)\n",
    "    output = tokenizer.decode(output[0], skip_special_tokens=True)\n",
    "    print(output)"
   ]
  },
  {
   "attachments": {},
   "cell_type": "markdown",
   "metadata": {},
   "source": [
    "-------"
   ]
  },
  {
   "cell_type": "code",
   "execution_count": 12,
   "metadata": {},
   "outputs": [],
   "source": [
    "tokenizer = PreTrainedTokenizerFast.from_pretrained('gogamza/kobart-base-v1')\n",
    "model = BartForConditionalGeneration.from_pretrained('gogamza/kobart-base-v1')"
   ]
  },
  {
   "cell_type": "code",
   "execution_count": 13,
   "metadata": {},
   "outputs": [
    {
     "name": "stdout",
     "output_type": "stream",
     "text": [
      "또한 \" \"이이이이 정통 하 하 하 하 하 하 하 하 하 하 하 하 하 호텔 호텔 예약 사이트 호텔스닷컴이 본격적인 호텔 호텔 예약 사이트 호텔이 본격적인 휴가철을 앞두고 '호텔스닷컴 벨퍼그 랜드   룸'을 17일 공개했다. 호텔스닷컴에 따르면 그랜드 워커힐 서울과 협업해 꾸민 이 방은 자사 마스코트인 '벨퍼그'를 테마로 내세웠다. 특히 나이 어린 놀 놀 놀 놀 놀 놀 놀 놀 놀 감 감 감, 다양한 다양한 다양한 다양한  여행 여행이이 알 알 알 알 정 정 정 정 정 정 정 정 정 정 정 정 정 정 정 정 정 정 정 정 정 정 정 정 정 정 정 정 정 정 정 정                                          호텔 닷컴이 본격적인 휴가철을 앞두고 '호텔스닷컴 벨 퍼그              호텔   조사를 했다. 호텔스닷컴에 앞서 지난 지난 지난 지난 지난 지난 지난 지난 5월 자녀가 있는 가정을,,,,,,,,,,,,,,,, 호텔 방을, 객 객 객,,,,,,,,,,,,,,,,,,,,,,,,,,,,,,,,,,,,,,,,,,,,,, 어떤 방을 만들고 싶나요?'라는 질문에 4~7세 아동 56%는 '알록달록한 미끄럼틀, 그, 그네, 그네, 그네 등이 있는 숙소' 라고 답했다. 같은 연령 중의 응답자 중 42%는 방에서 좋아하는 젤 젤리와 과자 등 좋아하는 간식을,, 호텔, 그리 그리 그리 그리 그리 그리 그리 하 하 하 하 하 하 하 하 호텔  호텔 알 알 알 알 알 알 알 알 알 알 알 정통 정통 정통 정통 정통 여행 여행 여행 여행 여행 여행 여행 알 알 알 알 알 알 알 알 알 알 알 알 알 알 알 알 알 알 알 알 알록록록록록록한 색으로 단 단 실내 미끄럼틀이 가장 먼저 시선을 사로잡는다. 어린이 전용 스낵 바가 따로 마련돼 있으며, 유기 농 과일주스, 건조 과일, 유기    젤리 등 간식거리가 풍성하게 담겨 있다. 또 방 한히히히히히히\n"
     ]
    }
   ],
   "source": [
    "if text:\n",
    "    input_ids = tokenizer.encode(text)\n",
    "    input_ids = torch.tensor(input_ids)\n",
    "    input_ids = input_ids.unsqueeze(0)\n",
    "    output = model.generate(input_ids, eos_token_id=1, max_length=512, num_beams=5)\n",
    "    output = tokenizer.decode(output[0], skip_special_tokens=True)\n",
    "    print(output)"
   ]
  },
  {
   "cell_type": "code",
   "execution_count": null,
   "metadata": {},
   "outputs": [],
   "source": []
  }
 ],
 "metadata": {
  "kernelspec": {
   "display_name": "kobart",
   "language": "python",
   "name": "python3"
  },
  "language_info": {
   "codemirror_mode": {
    "name": "ipython",
    "version": 3
   },
   "file_extension": ".py",
   "mimetype": "text/x-python",
   "name": "python",
   "nbconvert_exporter": "python",
   "pygments_lexer": "ipython3",
   "version": "3.8.15"
  },
  "orig_nbformat": 4,
  "vscode": {
   "interpreter": {
    "hash": "104dffb27da37eb273ba23b660b992a7c661091373db9a98c94ba17d96ededed"
   }
  }
 },
 "nbformat": 4,
 "nbformat_minor": 2
}
